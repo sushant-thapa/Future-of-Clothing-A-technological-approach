{
 "cells": [
  {
   "cell_type": "code",
   "execution_count": 1,
   "metadata": {},
   "outputs": [],
   "source": [
    "import os\n",
    "import numpy as np"
   ]
  },
  {
   "cell_type": "code",
   "execution_count": 2,
   "metadata": {},
   "outputs": [],
   "source": [
    "import scipy as sio"
   ]
  },
  {
   "cell_type": "code",
   "execution_count": 3,
   "metadata": {},
   "outputs": [],
   "source": [
    "import sys"
   ]
  },
  {
   "cell_type": "code",
   "execution_count": 4,
   "metadata": {},
   "outputs": [],
   "source": [
    "import open3d as o3d"
   ]
  },
  {
   "cell_type": "code",
   "execution_count": 5,
   "metadata": {},
   "outputs": [
    {
     "name": "stdout",
     "output_type": "stream",
     "text": [
      "geometry::PointCloud with 6449 points.\n"
     ]
    }
   ],
   "source": [
    "plytest = o3d.io.read_point_cloud(\"testMeshes/model_25.ply\")\n",
    "print(plytest)"
   ]
  },
  {
   "cell_type": "code",
   "execution_count": 6,
   "metadata": {},
   "outputs": [
    {
     "name": "stdout",
     "output_type": "stream",
     "text": [
      "[[   33.03763718    43.16141885  -269.76254076]\n",
      " [   24.71318596    41.23312295  -261.80963083]\n",
      " [   37.62274016    44.09175438  -272.65251792]\n",
      " ...\n",
      " [  111.4752726   -113.92549641 -1001.52027269]\n",
      " [  123.91703697   -98.76821096 -1003.52497336]\n",
      " [  153.46896595   -87.80526395 -1000.5384818 ]]\n"
     ]
    }
   ],
   "source": [
    "print(np.asarray(plytest.points))\n",
    "o3d.visualization.draw_geometries([plytest])"
   ]
  },
  {
   "cell_type": "code",
   "execution_count": 14,
   "metadata": {},
   "outputs": [
    {
     "name": "stdout",
     "output_type": "stream",
     "text": [
      "Downsample the point cloud using voxels\n"
     ]
    }
   ],
   "source": [
    "print(\"Downsample the point cloud using voxels\")\n",
    "downply = o3d.geometry.voxel_down_sample(plytest,voxel_size=5.0)\n",
    "o3d.visualization.draw_geometries([downply])"
   ]
  },
  {
   "cell_type": "code",
   "execution_count": 17,
   "metadata": {},
   "outputs": [
    {
     "name": "stdout",
     "output_type": "stream",
     "text": [
      "Recompute the normals of the downsampled point cloud\n"
     ]
    }
   ],
   "source": [
    "print(\"Recompute the normals of the downsampled point cloud\")\n",
    "o3d.geometry.estimate_normals(downply, search_param = o3d.geometry.KDTreeSearchParamHybrid(radius=25.0, max_nn=10))\n",
    "o3d.visualization.draw_geometries([downply])"
   ]
  },
  {
   "cell_type": "code",
   "execution_count": 1,
   "metadata": {},
   "outputs": [],
   "source": [
    "import matplotlib.pyplot as plt"
   ]
  },
  {
   "cell_type": "code",
   "execution_count": null,
   "metadata": {},
   "outputs": [],
   "source": []
  }
 ],
 "metadata": {
  "kernelspec": {
   "display_name": "Python 3",
   "language": "python",
   "name": "python3"
  },
  "language_info": {
   "codemirror_mode": {
    "name": "ipython",
    "version": 3
   },
   "file_extension": ".py",
   "mimetype": "text/x-python",
   "name": "python",
   "nbconvert_exporter": "python",
   "pygments_lexer": "ipython3",
   "version": "3.7.7"
  }
 },
 "nbformat": 4,
 "nbformat_minor": 4
}
